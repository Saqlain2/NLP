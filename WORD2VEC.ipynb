{
  "nbformat": 4,
  "nbformat_minor": 0,
  "metadata": {
    "colab": {
      "name": "WORD2VEC.ipynb",
      "provenance": [],
      "authorship_tag": "ABX9TyNeGqFvCcCq/29yqgj/u4xy",
      "include_colab_link": true
    },
    "kernelspec": {
      "name": "python3",
      "display_name": "Python 3"
    },
    "language_info": {
      "name": "python"
    }
  },
  "cells": [
    {
      "cell_type": "markdown",
      "metadata": {
        "id": "view-in-github",
        "colab_type": "text"
      },
      "source": [
        "<a href=\"https://colab.research.google.com/github/Saqlain2/NLP/blob/main/WORD2VEC.ipynb\" target=\"_parent\"><img src=\"https://colab.research.google.com/assets/colab-badge.svg\" alt=\"Open In Colab\"/></a>"
      ]
    },
    {
      "cell_type": "code",
      "metadata": {
        "colab": {
          "base_uri": "https://localhost:8080/"
        },
        "id": "r2TpMWcB2AdI",
        "outputId": "39cdb6a5-52ad-494e-9a38-a03b1fda57e8"
      },
      "source": [
        "pip install gensim"
      ],
      "execution_count": 36,
      "outputs": [
        {
          "output_type": "stream",
          "text": [
            "Requirement already satisfied: gensim in /usr/local/lib/python3.7/dist-packages (3.6.0)\n",
            "Requirement already satisfied: smart-open>=1.2.1 in /usr/local/lib/python3.7/dist-packages (from gensim) (5.0.0)\n",
            "Requirement already satisfied: six>=1.5.0 in /usr/local/lib/python3.7/dist-packages (from gensim) (1.15.0)\n",
            "Requirement already satisfied: scipy>=0.18.1 in /usr/local/lib/python3.7/dist-packages (from gensim) (1.4.1)\n",
            "Requirement already satisfied: numpy>=1.11.3 in /usr/local/lib/python3.7/dist-packages (from gensim) (1.19.5)\n"
          ],
          "name": "stdout"
        }
      ]
    },
    {
      "cell_type": "code",
      "metadata": {
        "colab": {
          "base_uri": "https://localhost:8080/"
        },
        "id": "O-DfkdrefF-y",
        "outputId": "70c50101-3a44-461a-e3f6-aaeff513c932"
      },
      "source": [
        "import nltk\n",
        "nltk.download('punkt')\n",
        "nltk.download('stopwords')\n",
        "nltk.download('wordnet')\n",
        "from gensim.models import Word2Vec\n"
      ],
      "execution_count": 41,
      "outputs": [
        {
          "output_type": "stream",
          "text": [
            "[nltk_data] Downloading package punkt to /root/nltk_data...\n",
            "[nltk_data]   Package punkt is already up-to-date!\n",
            "[nltk_data] Downloading package stopwords to /root/nltk_data...\n",
            "[nltk_data]   Package stopwords is already up-to-date!\n",
            "[nltk_data] Downloading package wordnet to /root/nltk_data...\n",
            "[nltk_data]   Package wordnet is already up-to-date!\n"
          ],
          "name": "stdout"
        }
      ]
    },
    {
      "cell_type": "code",
      "metadata": {
        "id": "xFxiCmjFgQyR"
      },
      "source": [
        "paragraph =  \"\"\"I have three visions for India. In 3000 years of our history, people from all over \n",
        "               the world have come and invaded us, captured our lands, conquered our minds. \n",
        "               From Alexander onwards, the Greeks, the Turks, the Moguls, the Portuguese, the British,\n",
        "               the French, the Dutch, all of them came and looted us, took over what was ours. \n",
        "               Yet we have not done this to any other nation. We have not conquered anyone. \n",
        "               We have not grabbed their land, their culture, \n",
        "               their history and tried to enforce our way of life on them. \n",
        "               Why? Because we respect the freedom of others.That is why my \n",
        "               first vision is that of freedom. I believe that India got its first vision of \n",
        "               this in 1857, when we started the War of Independence. It is this freedom that\n",
        "               we must protect and nurture and build on. If we are not free, no one will respect us.\n",
        "               My second vision for India’s development. For fifty years we have been a developing nation.\n",
        "               It is time we see ourselves as a developed nation. We are among the top 5 nations of the world\n",
        "               in terms of GDP. We have a 10 percent growth rate in most areas. Our poverty levels are falling.\n",
        "               Our achievements are being globally recognised today. Yet we lack the self-confidence to\n",
        "               see ourselves as a developed nation, self-reliant and self-assured. Isn’t this incorrect?\n",
        "               I have a third vision. India must stand up to the world. Because I believe that unless India \n",
        "               stands up to the world, no one will respect us. Only strength respects strength. We must be \n",
        "               strong not only as a military power but also as an economic power. Both must go hand-in-hand. \n",
        "               My good fortune was to have worked with three great minds. Dr. Vikram Sarabhai of the Dept. of \n",
        "               space, Professor Satish Dhawan, who succeeded him and Dr. Brahm Prakash, father of nuclear material.\n",
        "               I was lucky to have worked with all three of them closely and consider this the great opportunity of my life. \n",
        "               I see four milestones in my career\"\"\"\n",
        "               \n",
        "               "
      ],
      "execution_count": 21,
      "outputs": []
    },
    {
      "cell_type": "markdown",
      "metadata": {
        "id": "mqHgJg5hiPrV"
      },
      "source": [
        "# Preprocessing the data\n"
      ]
    },
    {
      "cell_type": "code",
      "metadata": {
        "id": "7yteD8D57LNr"
      },
      "source": [
        "text = re.sub(r'\\[[0-9]*\\]',' ',paragraph)\n",
        "text = re.sub(r'\\s+',' ',text)\n",
        "text = text.lower()\n",
        "text = re.sub(r'\\d',' ',text)\n",
        "text = re.sub(r'\\s+',' ',text)"
      ],
      "execution_count": 37,
      "outputs": []
    },
    {
      "cell_type": "markdown",
      "metadata": {
        "id": "K5xZ8GbG7X5p"
      },
      "source": [
        "# Preparing the dataset"
      ]
    },
    {
      "cell_type": "code",
      "metadata": {
        "id": "M9a0K06y7LKn"
      },
      "source": [
        "sentences = nltk.sent_tokenize(text)\n",
        "\n",
        "sentences = [nltk.word_tokenize(sentence) for sentence in sentences]\n",
        "\n",
        "for i in range(len(sentences)):\n",
        "    sentences[i] = [word for word in sentences[i] if word not in stopwords.words('english')]"
      ],
      "execution_count": 38,
      "outputs": []
    },
    {
      "cell_type": "markdown",
      "metadata": {
        "id": "ePpmF58D7iJk"
      },
      "source": [
        "# Training the Word2Vec model"
      ]
    },
    {
      "cell_type": "code",
      "metadata": {
        "id": "ce2VkZ_A7kla"
      },
      "source": [
        "model = Word2Vec(sentences, min_count=1)"
      ],
      "execution_count": 42,
      "outputs": []
    },
    {
      "cell_type": "code",
      "metadata": {
        "colab": {
          "base_uri": "https://localhost:8080/"
        },
        "id": "-w1qHO9o73Lb",
        "outputId": "543f4e58-d5bf-4345-dee8-d9938bf8d272"
      },
      "source": [
        "word = model.wv.vocab\n",
        "word"
      ],
      "execution_count": 51,
      "outputs": [
        {
          "output_type": "execute_result",
          "data": {
            "text/plain": [
              "{',': <gensim.models.keyedvectors.Vocab at 0x7f0ba1bcf450>,\n",
              " '.': <gensim.models.keyedvectors.Vocab at 0x7f0ba1bd90d0>,\n",
              " '?': <gensim.models.keyedvectors.Vocab at 0x7f0b95baae10>,\n",
              " 'achievements': <gensim.models.keyedvectors.Vocab at 0x7f0b95bb2790>,\n",
              " 'alexander': <gensim.models.keyedvectors.Vocab at 0x7f0ba1bcf4d0>,\n",
              " 'also': <gensim.models.keyedvectors.Vocab at 0x7f0b95bb2c10>,\n",
              " 'among': <gensim.models.keyedvectors.Vocab at 0x7f0b95bb2490>,\n",
              " 'anyone': <gensim.models.keyedvectors.Vocab at 0x7f0b95baac10>,\n",
              " 'areas': <gensim.models.keyedvectors.Vocab at 0x7f0b95bb2690>,\n",
              " 'believe': <gensim.models.keyedvectors.Vocab at 0x7f0b95baaf90>,\n",
              " 'brahm': <gensim.models.keyedvectors.Vocab at 0x7f0b95bb5090>,\n",
              " 'british': <gensim.models.keyedvectors.Vocab at 0x7f0ba1bcf510>,\n",
              " 'build': <gensim.models.keyedvectors.Vocab at 0x7f0b95bb21d0>,\n",
              " 'came': <gensim.models.keyedvectors.Vocab at 0x7f0b95baaa10>,\n",
              " 'captured': <gensim.models.keyedvectors.Vocab at 0x7f0ba1bcf850>,\n",
              " 'career': <gensim.models.keyedvectors.Vocab at 0x7f0b95bb5350>,\n",
              " 'closely': <gensim.models.keyedvectors.Vocab at 0x7f0b95bb5210>,\n",
              " 'come': <gensim.models.keyedvectors.Vocab at 0x7f0ba1bcfad0>,\n",
              " 'conquered': <gensim.models.keyedvectors.Vocab at 0x7f0ba1bcf390>,\n",
              " 'consider': <gensim.models.keyedvectors.Vocab at 0x7f0b95bb5250>,\n",
              " 'culture': <gensim.models.keyedvectors.Vocab at 0x7f0b95baacd0>,\n",
              " 'dept': <gensim.models.keyedvectors.Vocab at 0x7f0b95bb2ed0>,\n",
              " 'developed': <gensim.models.keyedvectors.Vocab at 0x7f0b95bb2450>,\n",
              " 'developing': <gensim.models.keyedvectors.Vocab at 0x7f0b95bb2390>,\n",
              " 'development': <gensim.models.keyedvectors.Vocab at 0x7f0b95bb2310>,\n",
              " 'dhawan': <gensim.models.keyedvectors.Vocab at 0x7f0b95bb2fd0>,\n",
              " 'done': <gensim.models.keyedvectors.Vocab at 0x7f0b95baab90>,\n",
              " 'dr.': <gensim.models.keyedvectors.Vocab at 0x7f0b95bb2e10>,\n",
              " 'dutch': <gensim.models.keyedvectors.Vocab at 0x7f0b95baaad0>,\n",
              " 'economic': <gensim.models.keyedvectors.Vocab at 0x7f0b95bb2c50>,\n",
              " 'enforce': <gensim.models.keyedvectors.Vocab at 0x7f0b95baad50>,\n",
              " 'falling': <gensim.models.keyedvectors.Vocab at 0x7f0b95bb2750>,\n",
              " 'father': <gensim.models.keyedvectors.Vocab at 0x7f0b95bb5110>,\n",
              " 'fifty': <gensim.models.keyedvectors.Vocab at 0x7f0b95bb2350>,\n",
              " 'first': <gensim.models.keyedvectors.Vocab at 0x7f0b95baaf10>,\n",
              " 'fortune': <gensim.models.keyedvectors.Vocab at 0x7f0b95bb2d50>,\n",
              " 'four': <gensim.models.keyedvectors.Vocab at 0x7f0b95bb52d0>,\n",
              " 'free': <gensim.models.keyedvectors.Vocab at 0x7f0b95bb2210>,\n",
              " 'freedom': <gensim.models.keyedvectors.Vocab at 0x7f0b95baae90>,\n",
              " 'french': <gensim.models.keyedvectors.Vocab at 0x7f0b95baa950>,\n",
              " 'gdp': <gensim.models.keyedvectors.Vocab at 0x7f0b95bb2590>,\n",
              " 'globally': <gensim.models.keyedvectors.Vocab at 0x7f0b95bb27d0>,\n",
              " 'go': <gensim.models.keyedvectors.Vocab at 0x7f0b95bb2c90>,\n",
              " 'good': <gensim.models.keyedvectors.Vocab at 0x7f0b95bb2d10>,\n",
              " 'got': <gensim.models.keyedvectors.Vocab at 0x7f0b95baafd0>,\n",
              " 'grabbed': <gensim.models.keyedvectors.Vocab at 0x7f0b95baac50>,\n",
              " 'great': <gensim.models.keyedvectors.Vocab at 0x7f0b95bb2dd0>,\n",
              " 'greeks': <gensim.models.keyedvectors.Vocab at 0x7f0ba1bcf650>,\n",
              " 'growth': <gensim.models.keyedvectors.Vocab at 0x7f0b95bb2610>,\n",
              " 'hand-in-hand': <gensim.models.keyedvectors.Vocab at 0x7f0b95bb2cd0>,\n",
              " 'history': <gensim.models.keyedvectors.Vocab at 0x7f0ba1bcf810>,\n",
              " 'incorrect': <gensim.models.keyedvectors.Vocab at 0x7f0b95bb2990>,\n",
              " 'independence': <gensim.models.keyedvectors.Vocab at 0x7f0b95bb20d0>,\n",
              " 'india': <gensim.models.keyedvectors.Vocab at 0x7f0ba1bd9690>,\n",
              " 'invaded': <gensim.models.keyedvectors.Vocab at 0x7f0ba1bcf2d0>,\n",
              " 'lack': <gensim.models.keyedvectors.Vocab at 0x7f0b95bb2890>,\n",
              " 'land': <gensim.models.keyedvectors.Vocab at 0x7f0b95baac90>,\n",
              " 'lands': <gensim.models.keyedvectors.Vocab at 0x7f0ba1bcf3d0>,\n",
              " 'levels': <gensim.models.keyedvectors.Vocab at 0x7f0b95bb2710>,\n",
              " 'life': <gensim.models.keyedvectors.Vocab at 0x7f0b95baadd0>,\n",
              " 'looted': <gensim.models.keyedvectors.Vocab at 0x7f0b95baa9d0>,\n",
              " 'lucky': <gensim.models.keyedvectors.Vocab at 0x7f0b95bb51d0>,\n",
              " 'material': <gensim.models.keyedvectors.Vocab at 0x7f0b95bb5190>,\n",
              " 'milestones': <gensim.models.keyedvectors.Vocab at 0x7f0b95bb5310>,\n",
              " 'military': <gensim.models.keyedvectors.Vocab at 0x7f0b95bb2b90>,\n",
              " 'minds': <gensim.models.keyedvectors.Vocab at 0x7f0ba1bcf590>,\n",
              " 'moguls': <gensim.models.keyedvectors.Vocab at 0x7f0ba1bcf550>,\n",
              " 'must': <gensim.models.keyedvectors.Vocab at 0x7f0b95bb2110>,\n",
              " 'nation': <gensim.models.keyedvectors.Vocab at 0x7f0b95baabd0>,\n",
              " 'nations': <gensim.models.keyedvectors.Vocab at 0x7f0b95bb2510>,\n",
              " 'nuclear': <gensim.models.keyedvectors.Vocab at 0x7f0b95bb5150>,\n",
              " 'nurture': <gensim.models.keyedvectors.Vocab at 0x7f0b95bb2190>,\n",
              " 'one': <gensim.models.keyedvectors.Vocab at 0x7f0b95bb2250>,\n",
              " 'onwards': <gensim.models.keyedvectors.Vocab at 0x7f0ba1bcf5d0>,\n",
              " 'opportunity': <gensim.models.keyedvectors.Vocab at 0x7f0b95bb5290>,\n",
              " 'others.that': <gensim.models.keyedvectors.Vocab at 0x7f0b95baaed0>,\n",
              " 'people': <gensim.models.keyedvectors.Vocab at 0x7f0ba1bcf8d0>,\n",
              " 'percent': <gensim.models.keyedvectors.Vocab at 0x7f0b95bb25d0>,\n",
              " 'portuguese': <gensim.models.keyedvectors.Vocab at 0x7f0ba1bcf350>,\n",
              " 'poverty': <gensim.models.keyedvectors.Vocab at 0x7f0b95bb26d0>,\n",
              " 'power': <gensim.models.keyedvectors.Vocab at 0x7f0b95bb2bd0>,\n",
              " 'prakash': <gensim.models.keyedvectors.Vocab at 0x7f0b95bb50d0>,\n",
              " 'professor': <gensim.models.keyedvectors.Vocab at 0x7f0b95bb2f50>,\n",
              " 'protect': <gensim.models.keyedvectors.Vocab at 0x7f0b95bb2150>,\n",
              " 'rate': <gensim.models.keyedvectors.Vocab at 0x7f0b95bb2650>,\n",
              " 'recognised': <gensim.models.keyedvectors.Vocab at 0x7f0b95bb2810>,\n",
              " 'respect': <gensim.models.keyedvectors.Vocab at 0x7f0b95baae50>,\n",
              " 'respects': <gensim.models.keyedvectors.Vocab at 0x7f0b95bb2b10>,\n",
              " 'sarabhai': <gensim.models.keyedvectors.Vocab at 0x7f0b95bb2e90>,\n",
              " 'satish': <gensim.models.keyedvectors.Vocab at 0x7f0b95bb2f90>,\n",
              " 'second': <gensim.models.keyedvectors.Vocab at 0x7f0b95bb2290>,\n",
              " 'see': <gensim.models.keyedvectors.Vocab at 0x7f0b95bb2410>,\n",
              " 'self-assured': <gensim.models.keyedvectors.Vocab at 0x7f0b95bb2950>,\n",
              " 'self-confidence': <gensim.models.keyedvectors.Vocab at 0x7f0b95bb28d0>,\n",
              " 'self-reliant': <gensim.models.keyedvectors.Vocab at 0x7f0b95bb2910>,\n",
              " 'space': <gensim.models.keyedvectors.Vocab at 0x7f0b95bb2f10>,\n",
              " 'stand': <gensim.models.keyedvectors.Vocab at 0x7f0b95bb2a10>,\n",
              " 'stands': <gensim.models.keyedvectors.Vocab at 0x7f0b95bb2a90>,\n",
              " 'started': <gensim.models.keyedvectors.Vocab at 0x7f0b95bb2050>,\n",
              " 'strength': <gensim.models.keyedvectors.Vocab at 0x7f0b95bb2ad0>,\n",
              " 'strong': <gensim.models.keyedvectors.Vocab at 0x7f0b95bb2b50>,\n",
              " 'succeeded': <gensim.models.keyedvectors.Vocab at 0x7f0b95bb5050>,\n",
              " 'terms': <gensim.models.keyedvectors.Vocab at 0x7f0b95bb2550>,\n",
              " 'third': <gensim.models.keyedvectors.Vocab at 0x7f0b95bb29d0>,\n",
              " 'three': <gensim.models.keyedvectors.Vocab at 0x7f0ba1bd9250>,\n",
              " 'time': <gensim.models.keyedvectors.Vocab at 0x7f0b95bb23d0>,\n",
              " 'today': <gensim.models.keyedvectors.Vocab at 0x7f0b95bb2850>,\n",
              " 'took': <gensim.models.keyedvectors.Vocab at 0x7f0b95baaa50>,\n",
              " 'top': <gensim.models.keyedvectors.Vocab at 0x7f0b95bb24d0>,\n",
              " 'tried': <gensim.models.keyedvectors.Vocab at 0x7f0b95baad10>,\n",
              " 'turks': <gensim.models.keyedvectors.Vocab at 0x7f0ba1bcf610>,\n",
              " 'unless': <gensim.models.keyedvectors.Vocab at 0x7f0b95bb2a50>,\n",
              " 'us': <gensim.models.keyedvectors.Vocab at 0x7f0ba1bcf690>,\n",
              " 'vikram': <gensim.models.keyedvectors.Vocab at 0x7f0b95bb2e50>,\n",
              " 'vision': <gensim.models.keyedvectors.Vocab at 0x7f0b95baaf50>,\n",
              " 'visions': <gensim.models.keyedvectors.Vocab at 0x7f0ba1bd9910>,\n",
              " 'war': <gensim.models.keyedvectors.Vocab at 0x7f0b95bb2090>,\n",
              " 'way': <gensim.models.keyedvectors.Vocab at 0x7f0b95baad90>,\n",
              " 'worked': <gensim.models.keyedvectors.Vocab at 0x7f0b95bb2d90>,\n",
              " 'world': <gensim.models.keyedvectors.Vocab at 0x7f0ba1bcfb50>,\n",
              " 'years': <gensim.models.keyedvectors.Vocab at 0x7f0ba1bcfc50>,\n",
              " 'yet': <gensim.models.keyedvectors.Vocab at 0x7f0b95baaa90>,\n",
              " '’': <gensim.models.keyedvectors.Vocab at 0x7f0b95bb22d0>}"
            ]
          },
          "metadata": {
            "tags": []
          },
          "execution_count": 51
        }
      ]
    }
  ]
}